{
 "cells": [
  {
   "cell_type": "markdown",
   "metadata": {},
   "source": [
    "**Do Now 1**\n",
    "*June 1st, 2015*\n",
    "\n",
    "**Reviewing: Variables, casting, if statements**\n",
    "\n"
   ]
  },
  {
   "cell_type": "markdown",
   "metadata": {},
   "source": [
    "1) Given the following code, what is the output?"
   ]
  },
  {
   "cell_type": "code",
   "execution_count": 2,
   "metadata": {
    "collapsed": false
   },
   "outputs": [
    {
     "name": "stdout",
     "output_type": "stream",
     "text": [
      "25\n",
      "5\n",
      "catdog\n"
     ]
    }
   ],
   "source": [
    "i = 5\n",
    "print 5 * 5\n",
    "print i\n",
    "print \"cat\" + \"dog\""
   ]
  },
  {
   "cell_type": "markdown",
   "metadata": {},
   "source": [
    " - In line \"i = 5,\" defining variable `i` as integer 5\n",
    " - In line \"5 * 5\", python multiplying integer 5 by integer 5\n",
    " - in line \"i\", printing definition of variable `i`\n",
    " - in \"'cat' + 'dog'\", adding together strings \"cat\" and \"dog\""
   ]
  },
  {
   "cell_type": "markdown",
   "metadata": {},
   "source": [
    "2a) The code below doesn't work. Why not?"
   ]
  },
  {
   "cell_type": "code",
   "execution_count": 4,
   "metadata": {
    "collapsed": false
   },
   "outputs": [],
   "source": [
    "#print 5 + '5'"
   ]
  },
  {
   "cell_type": "markdown",
   "metadata": {},
   "source": [
    "- Adding Integer (5) and String ('5')"
   ]
  },
  {
   "cell_type": "markdown",
   "metadata": {},
   "source": [
    "2b) Give two possible changes and what the output would be in each case"
   ]
  },
  {
   "cell_type": "code",
   "execution_count": 5,
   "metadata": {
    "collapsed": false
   },
   "outputs": [
    {
     "name": "stdout",
     "output_type": "stream",
     "text": [
      "10\n"
     ]
    }
   ],
   "source": [
    "print 5 + 5"
   ]
  },
  {
   "cell_type": "markdown",
   "metadata": {},
   "source": [
    "- Get integer 10 by adding two integers (NO QUOTES)"
   ]
  },
  {
   "cell_type": "code",
   "execution_count": 6,
   "metadata": {
    "collapsed": false
   },
   "outputs": [
    {
     "name": "stdout",
     "output_type": "stream",
     "text": [
      "55\n"
     ]
    }
   ],
   "source": [
    "print '5' + '5'"
   ]
  },
  {
   "cell_type": "markdown",
   "metadata": {},
   "source": [
    "- Get string 55 by adding two strings (even though they are numbers, no different than 'cat' + 'dog' above"
   ]
  },
  {
   "cell_type": "markdown",
   "metadata": {},
   "source": [
    "3) What is wrong with the following if statement?"
   ]
  },
  {
   "cell_type": "code",
   "execution_count": 8,
   "metadata": {
    "collapsed": false
   },
   "outputs": [],
   "source": [
    "#if n = 2:\n",
    "    #print \"Two\""
   ]
  },
  {
   "cell_type": "markdown",
   "metadata": {},
   "source": [
    " - In an If Statement, need TWO equal signs (or >, <, >=, <=, !=)\n",
    " - Also, n is not defined"
   ]
  },
  {
   "cell_type": "code",
   "execution_count": 10,
   "metadata": {
    "collapsed": false
   },
   "outputs": [
    {
     "name": "stdout",
     "output_type": "stream",
     "text": [
      "Two\n"
     ]
    }
   ],
   "source": [
    "n = 2\n",
    "if n == 2:\n",
    "    print \"Two\"\n"
   ]
  },
  {
   "cell_type": "markdown",
   "metadata": {},
   "source": [
    "4) Given the following code, what would the output be for n = 0, 10, -1, and -5?"
   ]
  },
  {
   "cell_type": "code",
   "execution_count": 15,
   "metadata": {
    "collapsed": false
   },
   "outputs": [
    {
     "name": "stdout",
     "output_type": "stream",
     "text": [
      "0\n",
      "F\n",
      "H\n"
     ]
    }
   ],
   "source": [
    "n = 0\n",
    "print n\n",
    "if n > 0:\n",
    "    print \"A\"\n",
    "    if n >= 3:\n",
    "        print \"B\"\n",
    "        print \"C\"\n",
    "    elif n > 2:\n",
    "        print \"D\"\n",
    "    else:\n",
    "        print \"E\"\n",
    "elif 1 > n > -2:\n",
    "    print \"F\"\n",
    "else:\n",
    "    print \"G\"\n",
    "if n < 5:\n",
    "    print \"H\""
   ]
  },
  {
   "cell_type": "markdown",
   "metadata": {},
   "source": [
    "- n is NOT greater than 0, so does not consider anything in the If Statement UNTIL...\n",
    "    - Elif ('Else If\") n IS less than 1 and greater than -2, so prints \"F\"\n",
    "        - Does not consider \"Else,\" because fits into \"Elif\" (see above)\n",
    "- NEW STATEMENT\n",
    "    - IS less than 5, so prints \"H\""
   ]
  },
  {
   "cell_type": "code",
   "execution_count": 16,
   "metadata": {
    "collapsed": false
   },
   "outputs": [
    {
     "name": "stdout",
     "output_type": "stream",
     "text": [
      "10\n",
      "A\n",
      "B\n",
      "C\n"
     ]
    }
   ],
   "source": [
    "n = 10\n",
    "print n\n",
    "if n > 0:\n",
    "    print \"A\"\n",
    "    if n >= 3:\n",
    "        print \"B\"\n",
    "        print \"C\"\n",
    "    elif n > 2:\n",
    "        print \"D\"\n",
    "    else:\n",
    "        print \"E\"\n",
    "elif 1 > n > -2:\n",
    "    print \"F\"\n",
    "else:\n",
    "    print \"G\"\n",
    "if n < 5:\n",
    "    print \"H\""
   ]
  },
  {
   "cell_type": "markdown",
   "metadata": {},
   "source": [
    "- n IS greater than 0, so prints \"A\"\n",
    "    - is greater than/equal to 3, prints \"B\" and \"C\"\n",
    "        - DOES NOT NEED TO CONTINUE IN THIS IF STATEMENT\n",
    "- n is NOT less than 5"
   ]
  },
  {
   "cell_type": "code",
   "execution_count": 18,
   "metadata": {
    "collapsed": false
   },
   "outputs": [
    {
     "name": "stdout",
     "output_type": "stream",
     "text": [
      "-1\n",
      "F\n",
      "H\n"
     ]
    }
   ],
   "source": [
    "n = -1\n",
    "print n\n",
    "if n > 0:\n",
    "    print \"A\"\n",
    "    if n >= 3:\n",
    "        print \"B\"\n",
    "        print \"C\"\n",
    "    elif n > 2:\n",
    "        print \"D\"\n",
    "    else:\n",
    "        print \"E\"\n",
    "elif 1 > n > -2:\n",
    "    print \"F\"\n",
    "else:\n",
    "    print \"G\"\n",
    "if n < 5:\n",
    "    print \"H\""
   ]
  },
  {
   "cell_type": "markdown",
   "metadata": {},
   "source": [
    "SEE: N = 0"
   ]
  },
  {
   "cell_type": "code",
   "execution_count": 19,
   "metadata": {
    "collapsed": false
   },
   "outputs": [
    {
     "name": "stdout",
     "output_type": "stream",
     "text": [
      "3\n",
      "A\n",
      "B\n",
      "C\n",
      "H\n"
     ]
    }
   ],
   "source": [
    "n = 3\n",
    "print n\n",
    "if n > 0:\n",
    "    print \"A\"\n",
    "    if n >= 3:\n",
    "        print \"B\"\n",
    "        print \"C\"\n",
    "    elif n > 2:\n",
    "        print \"D\"\n",
    "    else:\n",
    "        print \"E\"\n",
    "elif 1 > n > -2:\n",
    "    print \"F\"\n",
    "else:\n",
    "    print \"G\"\n",
    "if n < 5:\n",
    "    print \"H\""
   ]
  },
  {
   "cell_type": "markdown",
   "metadata": {},
   "source": [
    "- n IS greater than 0, so prints \"A\"\n",
    "    - is greater than/equal to 3, prints \"B\" and \"C\"\n",
    "        - DOES NOT NEED TO CONTINUE IN THIS IF STATEMENT\n",
    "- n IS less than 5, so prints \"H\""
   ]
  },
  {
   "cell_type": "code",
   "execution_count": 20,
   "metadata": {
    "collapsed": false
   },
   "outputs": [
    {
     "name": "stdout",
     "output_type": "stream",
     "text": [
      "-5\n",
      "G\n",
      "H\n"
     ]
    }
   ],
   "source": [
    "n = -5\n",
    "print n\n",
    "if n > 0:\n",
    "    print \"A\"\n",
    "    if n >= 3:\n",
    "        print \"B\"\n",
    "        print \"C\"\n",
    "    elif n > 2:\n",
    "        print \"D\"\n",
    "    else:\n",
    "        print \"E\"\n",
    "elif 1 > n > -2:\n",
    "    print \"F\"\n",
    "else:\n",
    "    print \"G\"\n",
    "if n < 5:\n",
    "    print \"H\""
   ]
  },
  {
   "cell_type": "markdown",
   "metadata": {},
   "source": [
    "- n is NOT greater than 0, so moves to elif\n",
    "    - IS less than 1, but NOT greater than 2, moves to else\n",
    "        - IS \"else\", so print \"G\"\n",
    "- n IS less than 5, so print \"H\""
   ]
  },
  {
   "cell_type": "code",
   "execution_count": null,
   "metadata": {
    "collapsed": true
   },
   "outputs": [],
   "source": []
  }
 ],
 "metadata": {
  "kernelspec": {
   "display_name": "Python 2",
   "language": "python",
   "name": "python2"
  },
  "language_info": {
   "codemirror_mode": {
    "name": "ipython",
    "version": 2
   },
   "file_extension": ".py",
   "mimetype": "text/x-python",
   "name": "python",
   "nbconvert_exporter": "python",
   "pygments_lexer": "ipython2",
   "version": "2.7.9"
  }
 },
 "nbformat": 4,
 "nbformat_minor": 0
}
